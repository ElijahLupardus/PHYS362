{
 "cells": [
  {
   "cell_type": "markdown",
   "metadata": {},
   "source": [
    "# Problem 1.5\n",
    "\n",
    "## Problem Statement\n",
    "\n",
    "Consider the wavefunction $$\\Psi(x,t) = Ae^{-\\lambda|x|}e^{i\\omega t}, $$ with $A$, $\\lambda$, and $\\omega$ positive real constants\n",
    "\n",
    "1. Normalize $\\Psi$\n",
    "2. Find $\\langle x\\rangle$ and $\\langle x^2\\rangle$\n",
    "3. Find $\\sigma_x$. Also sketch $\\Psi^2$ as a function of $x$, mark $\\langle x \\rangle + \\sigma$ and $\\langle x \\rangle - \\sigma$ to illustrate the \"spread\". What is the probability of finding the particle inside this range?\n",
    "\n",
    "----\n",
    "\n",
    "## Solution\n",
    "\n",
    "This problem is very similar to 1.3, but here we're given $\\Psi$ instead of $\\Psi^2$. Since $\\Psi$ is complex, we need to take the complex conjugate to get $|\\Psi^2|$ (which is what we integrate to do the normalization.)"
   ]
  },
  {
   "cell_type": "code",
   "execution_count": null,
   "metadata": {
    "collapsed": true
   },
   "outputs": [],
   "source": [
    "import sympy as sp\n",
    "\n",
    "#make output look nice\n",
    "sp.init_printing()\n",
    "\n",
    "#set up our symbols\n",
    "lam, omege, A = sp.symbols('lambda omega A', positive=True, real=True)\n",
    "x, t = sp.symbols('x t', real=True)\n",
    "\n",
    "#define Psi\n",
    "Psi = A*sp.exp(-lam*sp.Abs(x))*sp.exp(sp.I*omega*t)\n"
   ]
  },
  {
   "cell_type": "markdown",
   "metadata": {},
   "source": [
    "----\n",
    "\n",
    "## Portfolio references\n",
    "\n",
    "## Index terms\n",
    "\n",
    "## Book references\n",
    "\n",
    "## External references"
   ]
  }
 ],
 "metadata": {
  "anaconda-cloud": {},
  "kernelspec": {
   "display_name": "Python [Root]",
   "language": "python",
   "name": "Python [Root]"
  },
  "language_info": {
   "codemirror_mode": {
    "name": "ipython",
    "version": 3
   },
   "file_extension": ".py",
   "mimetype": "text/x-python",
   "name": "python",
   "nbconvert_exporter": "python",
   "pygments_lexer": "ipython3",
   "version": "3.5.2"
  }
 },
 "nbformat": 4,
 "nbformat_minor": 0
}
