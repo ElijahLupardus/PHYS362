{
 "cells": [
  {
   "cell_type": "markdown",
   "metadata": {},
   "source": [
    "# Problem 1.3\n",
    "\n",
    "## Problem statement\n",
    "\n",
    "Consider the **gaussian** distribution\n",
    "$$ \\rho(x) = A e^{-\\lambda(x-a)^2}, $$\n",
    "where $A$, $a$, and $\\lambda$ are positive real constants\n",
    "\n",
    "1. use equation 1.16 to determine $A$.\n",
    "2. Find $\\langle x\\rangle$, $\\langle x^2\\rangle$, and $\\sigma$\n",
    "3. Sketch the graph of $\\rho(x)$.\n",
    "\n",
    "----\n",
    "\n",
    "## Solution\n",
    "\n",
    "The first thing we need to do is define our mathematical symbols in **SymPy**, so our variables can be distinguished from those that are built in to Python. **Lambda** has a special use in Sympy so we will use **lam** instead"
   ]
  },
  {
   "cell_type": "code",
   "execution_count": 1,
   "metadata": {
    "collapsed": true
   },
   "outputs": [],
   "source": [
    "from sympy import symbols, exp\n",
    "\n",
    "A, a, lam = symbols('A a lambda', real=True, positive=True)\n",
    "x = symbols('x')\n",
    "\n",
    "rho = A*exp(-lam*(x-a)**2)"
   ]
  },
  {
   "cell_type": "code",
   "execution_count": 5,
   "metadata": {
    "collapsed": false
   },
   "outputs": [
    {
     "data": {
      "text/plain": [
       "A*exp(-lambda*(-a + x)**2)"
      ]
     },
     "execution_count": 5,
     "metadata": {},
     "output_type": "execute_result"
    }
   ],
   "source": [
    "rho"
   ]
  },
  {
   "cell_type": "markdown",
   "metadata": {},
   "source": [
    "Since $\\lambda$, $A$, and $a$ are all real and positive it is a good idea to specify that from the beginning. Also, although $\\rho$ wasn't declared as a symbol it was defined using symbols so that is okay. \n",
    "\n",
    "To make the outputs more readable we will use the pretty-printing feature. **sp.init_printing()**"
   ]
  },
  {
   "cell_type": "code",
   "execution_count": 8,
   "metadata": {
    "collapsed": true
   },
   "outputs": [],
   "source": [
    "import sympy as sp\n",
    "sp.init_printing()"
   ]
  },
  {
   "cell_type": "code",
   "execution_count": 11,
   "metadata": {
    "collapsed": false
   },
   "outputs": [
    {
     "data": {
      "image/png": "[encoded data removed]",
      "text/latex": [
       "$$A e^{- \\lambda \\left(- a + x\\right)^{2}}$$"
      ],
      "text/plain": [
       "              2\n",
       "   -λ⋅(-a + x) \n",
       "A⋅ℯ            "
      ]
     },
     "execution_count": 11,
     "metadata": {},
     "output_type": "execute_result"
    }
   ],
   "source": [
    "rho"
   ]
  },
  {
   "cell_type": "markdown",
   "metadata": {},
   "source": [
    "Now, we utilize **Equation 1.16:**, $$1 = \\int_{-\\infty}^{+\\infty}\\rho(x) dx,$$ to get $A$. We can take this integral using 'sympy', and solve for A by hand.\n",
    "\n",
    "\n"
   ]
  },
  {
   "cell_type": "code",
   "execution_count": 13,
   "metadata": {
    "collapsed": false
   },
   "outputs": [
    {
     "data": {
      "image/png": "[encoded data removed]",
      "text/latex": [
       "$$\\frac{\\sqrt{\\pi} A}{\\sqrt{\\lambda}}$$"
      ],
      "text/plain": [
       "√π⋅A\n",
       "────\n",
       " √λ "
      ]
     },
     "execution_count": 13,
     "metadata": {},
     "output_type": "execute_result"
    }
   ],
   "source": [
    "from sympy import integrate, oo\n",
    "integrate(rho, (x, -oo, oo))\n"
   ]
  },
  {
   "cell_type": "markdown",
   "metadata": {},
   "source": [
    "Therefore: $$A=\\sqrt{\\lambda\\over\\pi},$$"
   ]
  },
  {
   "cell_type": "markdown",
   "metadata": {},
   "source": [
    "This is awkward to type, however, and we'd like sympy to do all of the work for us. We can do this using the 'sympy' function 'solveset'. It is important to not that we **cannot** use the = symbol to denote algebraic equality. We must use the 'sympy' function **'Eq'**"
   ]
  },
  {
   "cell_type": "code",
   "execution_count": 15,
   "metadata": {
    "collapsed": false
   },
   "outputs": [
    {
     "data": {
      "image/png": "[encoded data removed]",
      "text/latex": [
       "$$\\left\\{\\frac{\\sqrt{\\lambda}}{\\sqrt{\\pi}}\\right\\}$$"
      ],
      "text/plain": [
       "⎧√λ⎫\n",
       "⎨──⎬\n",
       "⎩√π⎭"
      ]
     },
     "execution_count": 15,
     "metadata": {},
     "output_type": "execute_result"
    }
   ],
   "source": [
    "from sympy import Eq, solveset\n",
    "solveset(Eq(1, integrate(rho, (x, -oo, oo))), A)"
   ]
  },
  {
   "cell_type": "markdown",
   "metadata": {},
   "source": [
    "Now were ready to look for the expectation values in part B. We do, however, need to substitute our new value for $A$ into the equation $\\rho(x)$. Once this is done we use the definitions on page 10 of the textbook to find our expectation values"
   ]
  },
  {
   "cell_type": "code",
   "execution_count": 16,
   "metadata": {
    "collapsed": true
   },
   "outputs": [],
   "source": [
    "# substituting the value for A into rho(x)\n",
    "rho = rho.subs(A, next(iter(solveset(Eq(1, integrate(rho, (x, -oo, oo))), A))))\n",
    "\n",
    "expectx = integrate(x*rho, (x, -oo, oo))\n",
    "expectxsq = integrate(x**2*rho, (x, -oo, oo))\n"
   ]
  },
  {
   "cell_type": "code",
   "execution_count": 18,
   "metadata": {
    "collapsed": false
   },
   "outputs": [
    {
     "ename": "NameError",
     "evalue": "name 'expectx' is not defined",
     "output_type": "error",
     "traceback": [
      "\u001b[1;31m---------------------------------------------------------------------------\u001b[0m",
      "\u001b[1;31mNameError\u001b[0m                                 Traceback (most recent call last)",
      "\u001b[1;32m<ipython-input-18-28e5bfb7df4c>\u001b[0m in \u001b[0;36m<module>\u001b[1;34m()\u001b[0m\n\u001b[1;32m----> 1\u001b[1;33m \u001b[0mexpectx\u001b[0m\u001b[1;33m\u001b[0m\u001b[0m\n\u001b[0m",
      "\u001b[1;31mNameError\u001b[0m: name 'expectx' is not defined"
     ]
    }
   ],
   "source": [
    "expectx"
   ]
  },
  {
   "cell_type": "markdown",
   "metadata": {},
   "source": [
    "----\n",
    "\n",
    "## Portfolio references\n",
    "\n",
    "## Index terms\n",
    "\n",
    "## Book references\n",
    "\n",
    "## External references"
   ]
  }
 ],
 "metadata": {
  "anaconda-cloud": {},
  "kernelspec": {
   "display_name": "Python [Root]",
   "language": "python",
   "name": "Python [Root]"
  },
  "language_info": {
   "codemirror_mode": {
    "name": "ipython",
    "version": 3
   },
   "file_extension": ".py",
   "mimetype": "text/x-python",
   "name": "python",
   "nbconvert_exporter": "python",
   "pygments_lexer": "ipython3",
   "version": "3.5.2"
  }
 },
 "nbformat": 4,
 "nbformat_minor": 0
}
